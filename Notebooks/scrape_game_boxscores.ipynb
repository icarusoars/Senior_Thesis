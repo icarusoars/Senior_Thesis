{
 "cells": [
  {
   "cell_type": "code",
   "execution_count": 218,
   "metadata": {},
   "outputs": [],
   "source": [
    "from selenium import webdriver\n",
    "from selenium.webdriver.common.keys import Keys\n",
    "import pandas as pd\n",
    "from datetime import date, timedelta\n",
    "import time"
   ]
  },
  {
   "cell_type": "code",
   "execution_count": 13,
   "metadata": {},
   "outputs": [],
   "source": [
    "path_to_chromedriver = '/Users/skylershi/Data Science/chromedriver' # Path to access a chrome driver\n",
    "browser = webdriver.Chrome(executable_path=path_to_chromedriver)\n",
    "\n",
    "url = 'https://stats.nba.com/scores'\n",
    "browser.get(url)"
   ]
  },
  {
   "cell_type": "markdown",
   "metadata": {},
   "source": [
    "## Specify Scraping Date Range"
   ]
  },
  {
   "cell_type": "code",
   "execution_count": 3,
   "metadata": {},
   "outputs": [],
   "source": [
    "start_date = date(2019, 12, 1)\n",
    "end_date   = date(2020, 1, 1)\n",
    "delta      = timedelta(days=1)"
   ]
  },
  {
   "cell_type": "markdown",
   "metadata": {},
   "source": [
    "The endpoint **stats.nba.com/scores** accepts dates in format**stats.nba.com/scores/{month}/{day}/{year}** where month and day are both zero-padded if necessary"
   ]
  },
  {
   "cell_type": "code",
   "execution_count": 10,
   "metadata": {},
   "outputs": [],
   "source": [
    "date_scrape = start_date\n",
    "while date_scrape <= end_date:\n",
    "    date_str = date_scrape.strftime(\"%m/%d/%Y\")\n",
    "    date_scrape += delta\n",
    "    \n",
    "    "
   ]
  },
  {
   "cell_type": "markdown",
   "metadata": {},
   "source": [
    "## Scrape Games Off Base Page"
   ]
  },
  {
   "cell_type": "code",
   "execution_count": 108,
   "metadata": {},
   "outputs": [],
   "source": [
    "url = 'https://stats.nba.com/scores/12/07/2019'\n",
    "browser.get(url)"
   ]
  },
  {
   "cell_type": "code",
   "execution_count": 110,
   "metadata": {},
   "outputs": [
    {
     "data": {
      "text/plain": [
       "[<selenium.webdriver.remote.webelement.WebElement (session=\"d170af94a5571d2f7689ee0c629aede0\", element=\"724a4893-9ba2-436f-a033-ea19dd6f449f\")>,\n",
       " <selenium.webdriver.remote.webelement.WebElement (session=\"d170af94a5571d2f7689ee0c629aede0\", element=\"a7a5d774-3628-4333-99a9-cbb4097eeb61\")>,\n",
       " <selenium.webdriver.remote.webelement.WebElement (session=\"d170af94a5571d2f7689ee0c629aede0\", element=\"69a67e1e-59de-4dc7-810f-f15a2b10402d\")>,\n",
       " <selenium.webdriver.remote.webelement.WebElement (session=\"d170af94a5571d2f7689ee0c629aede0\", element=\"5c37f24b-58a3-4d23-8bbb-8fdda2c8fa84\")>,\n",
       " <selenium.webdriver.remote.webelement.WebElement (session=\"d170af94a5571d2f7689ee0c629aede0\", element=\"b96d6b2f-a1c8-42a1-8d86-28b9da394500\")>]"
      ]
     },
     "execution_count": 110,
     "metadata": {},
     "output_type": "execute_result"
    }
   ],
   "source": [
    "browser.find_elements_by_partial_link_text('Box Score')"
   ]
  },
  {
   "cell_type": "code",
   "execution_count": 45,
   "metadata": {},
   "outputs": [],
   "source": [
    "games = browser.find_elements_by_xpath('/html/body/main/div[2]/div/div[2]/div/div[2]/div[1]/div/div/*')\n",
    "\n",
    "#xpath indexing starts at 1!\n",
    "for game_id in range(3, len(games)+1):\n",
    "    game_box_score_xpath = '''\n",
    "                                /html/body/main/div[2]/div/div[2]/div/div[2]/div[1]/div/div/\n",
    "                                div[{}]/div[2]/div[1]/div/div[2]/div/a[1]\n",
    "                           '''.format(game_id)\n",
    "    \n",
    "    browser.find_element_by_xpath(game_box_score_xpath).click()\n",
    "    time.sleep(1)\n",
    "    \n",
    "    # scrape boxscores\n",
    "    \n",
    "    \n",
    "    browser.back()\n",
    "    time.sleep(1)\n"
   ]
  },
  {
   "cell_type": "markdown",
   "metadata": {},
   "source": [
    "## Scrape Boxscore off Game Page"
   ]
  },
  {
   "cell_type": "code",
   "execution_count": 198,
   "metadata": {},
   "outputs": [],
   "source": [
    "url = 'https://stats.nba.com/game/0021900001/'\n",
    "browser.get(url)"
   ]
  },
  {
   "cell_type": "code",
   "execution_count": 172,
   "metadata": {},
   "outputs": [
    {
     "name": "stdout",
     "output_type": "stream",
     "text": [
      "0 \t PLAYER MIN SCREEN ASSISTS SCREEN_ASSISTS PTS DEFLECTIONS OFF LOOSE BALLS\n",
      "1 \t RECOVERED DEF LOOSE BALLS\n",
      "2 \t RECOVERED LOOSE BALLS\n",
      "3 \t RECOVERED CHARGES\n",
      "4 \t DRAWN CONTESTED\n",
      "5 \t 2PT SHOTS CONTESTED\n",
      "6 \t 3PT SHOTS CONTESTED\n",
      "7 \t SHOTS OFF BOX OUTS DEF BOX OUTS BOX\n",
      "8 \t OUTS\n",
      "9 \t Jrue Holiday F\n"
     ]
    }
   ],
   "source": [
    "table = browser.find_element_by_xpath('/html/body/main/div[2]/div/div/div[4]/div/div[2]/div/nba-stat-table[1]')\n",
    "table_text = table.text.replace('SCREEN\\nASSISTS', 'SCREEN_ASSISTS')\n",
    "for line_id, line in enumerate(table_text.split('\\n')):\n",
    "    print(line_id, '\\t', line)\n",
    "    if(line_id > 8):\n",
    "        break"
   ]
  },
  {
   "cell_type": "code",
   "execution_count": 194,
   "metadata": {},
   "outputs": [],
   "source": [
    "table = browser.find_element_by_xpath('/html/body/main/div[2]/div/div/div[4]/div/div[2]/div/nba-stat-table[1]')\n",
    "\n",
    "column_names = []\n",
    "player_stats = []\n",
    "temp_player_stat = []\n",
    "\n",
    "text_replacements = {\n",
    "    # Hustle stats replacement strings\n",
    "    'SCREEN\\nASSISTS': 'SCREEN_ASSISTS',\n",
    "    'SCREEN ASSISTS' : 'SCREEN_ASSISTS',\n",
    "    'SCREEN_ASSISTS PTS': 'SCREEN_ASSISTS_PTS',\n",
    "    'OFF LOOSE BALLS\\nRECOVERED': 'OFF_LOOSE_BALLS_RECOVERED',\n",
    "    'DEF LOOSE BALLS\\nRECOVERED': 'DEF_LOOSE_BALLS_RECOVERED',\n",
    "    'LOOSE BALLS\\nRECOVERED': 'LOOSE_BALLS_RECOVERED',\n",
    "    'CHARGES\\nDRAWN': 'CHARGES_DRAWN',\n",
    "    'CONTESTED\\n2PT SHOTS': 'CONTESTED_2PT_SHOTS',\n",
    "    'CONTESTED\\n3PT SHOTS': 'CONTESTED_3PT_SHOTS',\n",
    "    'CONTESTED\\nSHOTS': 'CONTESTED_SHOTS',\n",
    "    'OFF BOX OUTS' : 'OFF_BOX_OUTS',\n",
    "    'DEF BOX OUTS' : 'DEF_BOX_OUTS',\n",
    "    'BOX\\nOUTS': 'BOX_OUTS',\n",
    "    # Advanced stats replacement strings\n",
    "    ' RATIO': '_RATIO',\n",
    "    # Defense stats replacement strings\n",
    "    'DEF\\nMIN': 'DEF_MIN',\n",
    "    'PARTIAL\\nPOSS': 'PARTIAL_POSS'\n",
    "}\n",
    "\n",
    "table_text = table.text\n",
    "for orig_str, replace_str in text_replacements.items():\n",
    "    table_text = table_text.replace(orig_str, replace_str)\n",
    "\n",
    "\n",
    "for line_id, line in enumerate(table_text.split('\\n')):\n",
    "    if line_id == 0:\n",
    "        column_names = line.split(' ')[1:]\n",
    "        column_names.insert(0,'PLAYER')\n",
    "    else:\n",
    "        \n",
    "        # stop reading once we see totals or DNP line\n",
    "        if ('Totals' in line) or ('DNP' in line) or ('DND' in line):\n",
    "            break\n",
    "\n",
    "        if line_id % 2 == 1:\n",
    "            line_cleaned = line[:-2] + line[-2:].replace(' F', '').replace(' C', '').replace(' G', '')\n",
    "            temp_player_stat.append(line_cleaned)\n",
    "        if line_id % 2 == 0:\n",
    "            temp_player_stat.extend(line.split(' '))\n",
    "            player_stats.append(temp_player_stat)\n",
    "            temp_player_stat = []"
   ]
  },
  {
   "cell_type": "code",
   "execution_count": 195,
   "metadata": {},
   "outputs": [
    {
     "data": {
      "text/html": [
       "<div>\n",
       "<style scoped>\n",
       "    .dataframe tbody tr th:only-of-type {\n",
       "        vertical-align: middle;\n",
       "    }\n",
       "\n",
       "    .dataframe tbody tr th {\n",
       "        vertical-align: top;\n",
       "    }\n",
       "\n",
       "    .dataframe thead th {\n",
       "        text-align: right;\n",
       "    }\n",
       "</style>\n",
       "<table border=\"1\" class=\"dataframe\">\n",
       "  <thead>\n",
       "    <tr style=\"text-align: right;\">\n",
       "      <th></th>\n",
       "      <th>PLAYER</th>\n",
       "      <th>MIN</th>\n",
       "      <th>OFFRTG</th>\n",
       "      <th>DEFRTG</th>\n",
       "      <th>NETRTG</th>\n",
       "      <th>AST%</th>\n",
       "      <th>AST/TO</th>\n",
       "      <th>AST_RATIO</th>\n",
       "      <th>OREB%</th>\n",
       "      <th>DREB%</th>\n",
       "      <th>REB%</th>\n",
       "      <th>TO_RATIO</th>\n",
       "      <th>EFG%</th>\n",
       "      <th>TS%</th>\n",
       "      <th>USG%</th>\n",
       "      <th>PACE</th>\n",
       "      <th>PIE</th>\n",
       "    </tr>\n",
       "  </thead>\n",
       "  <tbody>\n",
       "    <tr>\n",
       "      <th>0</th>\n",
       "      <td>Jrue Holiday</td>\n",
       "      <td>41:05</td>\n",
       "      <td>107.8</td>\n",
       "      <td>122.0</td>\n",
       "      <td>-14.2</td>\n",
       "      <td>20.7</td>\n",
       "      <td>1.20</td>\n",
       "      <td>23.1</td>\n",
       "      <td>5.0</td>\n",
       "      <td>4.3</td>\n",
       "      <td>4.7</td>\n",
       "      <td>19.2</td>\n",
       "      <td>43.3</td>\n",
       "      <td>40.9</td>\n",
       "      <td>20.8</td>\n",
       "      <td>105.74</td>\n",
       "      <td>2.9</td>\n",
       "    </tr>\n",
       "    <tr>\n",
       "      <th>1</th>\n",
       "      <td>Brandon Ingram</td>\n",
       "      <td>35:06</td>\n",
       "      <td>102.6</td>\n",
       "      <td>122.5</td>\n",
       "      <td>-19.9</td>\n",
       "      <td>22.7</td>\n",
       "      <td>2.50</td>\n",
       "      <td>18.5</td>\n",
       "      <td>0.0</td>\n",
       "      <td>12.5</td>\n",
       "      <td>6.8</td>\n",
       "      <td>7.4</td>\n",
       "      <td>47.4</td>\n",
       "      <td>53.0</td>\n",
       "      <td>27.2</td>\n",
       "      <td>107.35</td>\n",
       "      <td>11.2</td>\n",
       "    </tr>\n",
       "    <tr>\n",
       "      <th>2</th>\n",
       "      <td>Derrick Favors</td>\n",
       "      <td>20:45</td>\n",
       "      <td>108.2</td>\n",
       "      <td>132.7</td>\n",
       "      <td>-24.5</td>\n",
       "      <td>11.8</td>\n",
       "      <td>2.00</td>\n",
       "      <td>22.2</td>\n",
       "      <td>4.8</td>\n",
       "      <td>26.1</td>\n",
       "      <td>15.9</td>\n",
       "      <td>11.1</td>\n",
       "      <td>50.0</td>\n",
       "      <td>50.0</td>\n",
       "      <td>13.7</td>\n",
       "      <td>113.31</td>\n",
       "      <td>5.6</td>\n",
       "    </tr>\n",
       "    <tr>\n",
       "      <th>3</th>\n",
       "      <td>JJ Redick</td>\n",
       "      <td>27:02</td>\n",
       "      <td>100.0</td>\n",
       "      <td>122.2</td>\n",
       "      <td>-22.2</td>\n",
       "      <td>5.6</td>\n",
       "      <td>0.33</td>\n",
       "      <td>7.7</td>\n",
       "      <td>0.0</td>\n",
       "      <td>6.7</td>\n",
       "      <td>3.4</td>\n",
       "      <td>23.1</td>\n",
       "      <td>88.9</td>\n",
       "      <td>88.9</td>\n",
       "      <td>17.9</td>\n",
       "      <td>111.86</td>\n",
       "      <td>8.0</td>\n",
       "    </tr>\n",
       "    <tr>\n",
       "      <th>4</th>\n",
       "      <td>Lonzo Ball</td>\n",
       "      <td>24:50</td>\n",
       "      <td>112.3</td>\n",
       "      <td>122.4</td>\n",
       "      <td>-10.1</td>\n",
       "      <td>22.7</td>\n",
       "      <td>5.00</td>\n",
       "      <td>35.7</td>\n",
       "      <td>0.0</td>\n",
       "      <td>17.2</td>\n",
       "      <td>9.6</td>\n",
       "      <td>7.1</td>\n",
       "      <td>42.9</td>\n",
       "      <td>50.8</td>\n",
       "      <td>15.3</td>\n",
       "      <td>111.14</td>\n",
       "      <td>8.0</td>\n",
       "    </tr>\n",
       "  </tbody>\n",
       "</table>\n",
       "</div>"
      ],
      "text/plain": [
       "           PLAYER    MIN OFFRTG DEFRTG NETRTG  AST% AST/TO AST_RATIO OREB%  \\\n",
       "0    Jrue Holiday  41:05  107.8  122.0  -14.2  20.7   1.20      23.1   5.0   \n",
       "1  Brandon Ingram  35:06  102.6  122.5  -19.9  22.7   2.50      18.5   0.0   \n",
       "2  Derrick Favors  20:45  108.2  132.7  -24.5  11.8   2.00      22.2   4.8   \n",
       "3       JJ Redick  27:02  100.0  122.2  -22.2   5.6   0.33       7.7   0.0   \n",
       "4      Lonzo Ball  24:50  112.3  122.4  -10.1  22.7   5.00      35.7   0.0   \n",
       "\n",
       "  DREB%  REB% TO_RATIO  EFG%   TS%  USG%    PACE   PIE  \n",
       "0   4.3   4.7     19.2  43.3  40.9  20.8  105.74   2.9  \n",
       "1  12.5   6.8      7.4  47.4  53.0  27.2  107.35  11.2  \n",
       "2  26.1  15.9     11.1  50.0  50.0  13.7  113.31   5.6  \n",
       "3   6.7   3.4     23.1  88.9  88.9  17.9  111.86   8.0  \n",
       "4  17.2   9.6      7.1  42.9  50.8  15.3  111.14   8.0  "
      ]
     },
     "execution_count": 195,
     "metadata": {},
     "output_type": "execute_result"
    }
   ],
   "source": [
    "df = pd.DataFrame(player_stats, columns = column_names)\n",
    "df.head()"
   ]
  },
  {
   "cell_type": "markdown",
   "metadata": {},
   "source": [
    "## Scrape Multiple Boxscore views off of Game Page for Both Teams"
   ]
  },
  {
   "cell_type": "code",
   "execution_count": 214,
   "metadata": {},
   "outputs": [],
   "source": [
    "url = 'https://stats.nba.com/game/0021900001/'\n",
    "browser.get(url)"
   ]
  },
  {
   "cell_type": "code",
   "execution_count": null,
   "metadata": {},
   "outputs": [],
   "source": [
    "/html/body/main/div[2]/div/div/div[4]/div/nav-dropdown/nav/section[2]/div/a"
   ]
  },
  {
   "cell_type": "code",
   "execution_count": null,
   "metadata": {},
   "outputs": [],
   "source": [
    "/html/body/main/div[2]/div/div/div[4]/div/nav-dropdown/nav/section[2]/ul/li[1]/a"
   ]
  },
  {
   "cell_type": "code",
   "execution_count": null,
   "metadata": {},
   "outputs": [],
   "source": [
    "/html/body/main/div[2]/div/div/div[4]/div/nav-dropdown/nav/section[2]/ul/li[1]/a"
   ]
  },
  {
   "cell_type": "code",
   "execution_count": 216,
   "metadata": {},
   "outputs": [],
   "source": [
    "text_replacements = {\n",
    "    # Hustle stats replacement strings\n",
    "    'SCREEN\\nASSISTS': 'SCREEN_ASSISTS',\n",
    "    'SCREEN ASSISTS' : 'SCREEN_ASSISTS',\n",
    "    'SCREEN_ASSISTS PTS': 'SCREEN_ASSISTS_PTS',\n",
    "    'OFF LOOSE BALLS\\nRECOVERED': 'OFF_LOOSE_BALLS_RECOVERED',\n",
    "    'DEF LOOSE BALLS\\nRECOVERED': 'DEF_LOOSE_BALLS_RECOVERED',\n",
    "    'LOOSE BALLS\\nRECOVERED': 'LOOSE_BALLS_RECOVERED',\n",
    "    'CHARGES\\nDRAWN': 'CHARGES_DRAWN',\n",
    "    'CONTESTED\\n2PT SHOTS': 'CONTESTED_2PT_SHOTS',\n",
    "    'CONTESTED\\n3PT SHOTS': 'CONTESTED_3PT_SHOTS',\n",
    "    'CONTESTED\\nSHOTS': 'CONTESTED_SHOTS',\n",
    "    'OFF BOX OUTS' : 'OFF_BOX_OUTS',\n",
    "    'DEF BOX OUTS' : 'DEF_BOX_OUTS',\n",
    "    'BOX\\nOUTS': 'BOX_OUTS',\n",
    "    # Advanced stats replacement strings\n",
    "    ' RATIO': '_RATIO',\n",
    "    # Defense stats replacement strings\n",
    "    'DEF\\nMIN': 'DEF_MIN',\n",
    "    'PARTIAL\\nPOSS': 'PARTIAL_POSS'\n",
    "}"
   ]
  },
  {
   "cell_type": "code",
   "execution_count": 123,
   "metadata": {},
   "outputs": [],
   "source": [
    "options = ['Traditional', 'Advanced', 'Scoring', 'Usage', 'Player Tracking', 'Hustle', 'Defense']"
   ]
  },
  {
   "cell_type": "code",
   "execution_count": 219,
   "metadata": {},
   "outputs": [],
   "source": [
    "# keep track of all stats with a list of dfs\n",
    "team1_stats_dfs = []\n",
    "team2_stats_dfs = []\n",
    "team1 = browser.find_elements_by_class_name('nba-stat-table__caption')[0].text\n",
    "team2 = browser.find_elements_by_class_name('nba-stat-table__caption')[1].text\n",
    "\n",
    "# scrape multiple options designated above\n",
    "for i, option in enumerate(options):\n",
    "    # only select new options item if not first-time loading page\n",
    "    if i != 0:\n",
    "        browser.find_element_by_partial_link_text(option).click()\n",
    "        time.sleep(2)\n",
    "\n",
    "\n",
    "    # scrape 2 boxscore tables\n",
    "    table1 = browser.find_element_by_xpath('/html/body/main/div[2]/div/div/div[4]/div/div[2]/div/nba-stat-table[1]')\n",
    "    table2 = browser.find_element_by_xpath('/html/body/main/div[2]/div/div/div[4]/div/div[2]/div/nba-stat-table[2]')\n",
    "\n",
    "\n",
    "    \n",
    "\n",
    "    for table_idx, table in enumerate([table1, table2]):\n",
    "        column_names = []\n",
    "        player_stats = []\n",
    "        temp_player_stat = []\n",
    "        # replace all the unexpected spaces and newlines strings by our script\n",
    "        table_text = table.text\n",
    "        for orig_str, replace_str in text_replacements.items():\n",
    "            table_text = table_text.replace(orig_str, replace_str)\n",
    "\n",
    "        # read table text into python list of lists\n",
    "        for line_id, line in enumerate(table_text.split('\\n')):\n",
    "            if line_id == 0:\n",
    "                column_names = line.split(' ')[1:]\n",
    "                column_names.insert(0,'PLAYER')\n",
    "            else:\n",
    "                # stop reading once we see totals or DNP/DND line\n",
    "                if ('Totals' in line) or ('DNP' in line) or ('DND' in line):\n",
    "                    break\n",
    "\n",
    "                if line_id % 2 == 1:\n",
    "                    line_cleaned = line[:-2] + line[-2:].replace(' F', '').replace(' C', '').replace(' G', '')\n",
    "                    temp_player_stat.append(line_cleaned)\n",
    "                if line_id % 2 == 0:\n",
    "                    temp_player_stat.extend(line.split(' '))\n",
    "                    player_stats.append(temp_player_stat)\n",
    "                    temp_player_stat = []\n",
    "\n",
    "        # convert list of lists into pandas df\n",
    "        df = pd.DataFrame(player_stats, columns = column_names)\n",
    "        if table_idx == 0:\n",
    "            team1_stats_dfs.append(df)\n",
    "        else:\n",
    "            team2_stats_dfs.append(df)\n",
    "\n",
    "    # scroll back to top of page\n",
    "    browser.find_element_by_tag_name('body').send_keys(Keys.CONTROL + Keys.HOME)\n",
    "    # open the options menu\n",
    "    browser.find_element_by_partial_link_text(option).click()\n",
    "    time.sleep(2)"
   ]
  },
  {
   "cell_type": "code",
   "execution_count": 226,
   "metadata": {},
   "outputs": [],
   "source": [
    "browser.back()"
   ]
  },
  {
   "cell_type": "markdown",
   "metadata": {},
   "source": [
    "## Putting All the Scraping Altogether"
   ]
  },
  {
   "cell_type": "code",
   "execution_count": 244,
   "metadata": {},
   "outputs": [],
   "source": [
    "url = 'https://stats.nba.com/scores/12/07/2019'\n",
    "browser.get(url)"
   ]
  },
  {
   "cell_type": "code",
   "execution_count": 245,
   "metadata": {},
   "outputs": [],
   "source": [
    "# these are replacement strings for unexpected spaces and newlines by our script\n",
    "text_replacements = {\n",
    "    # Hustle stats replacement strings\n",
    "    'SCREEN\\nASSISTS': 'SCREEN_ASSISTS',\n",
    "    'SCREEN ASSISTS' : 'SCREEN_ASSISTS',\n",
    "    'SCREEN_ASSISTS PTS': 'SCREEN_ASSISTS_PTS',\n",
    "    'OFF LOOSE BALLS\\nRECOVERED': 'OFF_LOOSE_BALLS_RECOVERED',\n",
    "    'DEF LOOSE BALLS\\nRECOVERED': 'DEF_LOOSE_BALLS_RECOVERED',\n",
    "    'LOOSE BALLS\\nRECOVERED': 'LOOSE_BALLS_RECOVERED',\n",
    "    'CHARGES\\nDRAWN': 'CHARGES_DRAWN',\n",
    "    'CONTESTED\\n2PT SHOTS': 'CONTESTED_2PT_SHOTS',\n",
    "    'CONTESTED\\n3PT SHOTS': 'CONTESTED_3PT_SHOTS',\n",
    "    'CONTESTED\\nSHOTS': 'CONTESTED_SHOTS',\n",
    "    'OFF BOX OUTS' : 'OFF_BOX_OUTS',\n",
    "    'DEF BOX OUTS' : 'DEF_BOX_OUTS',\n",
    "    'BOX\\nOUTS': 'BOX_OUTS',\n",
    "    # Advanced stats replacement strings\n",
    "    ' RATIO': '_RATIO',\n",
    "    # Defense stats replacement strings\n",
    "    'DEF\\nMIN': 'DEF_MIN',\n",
    "    'PARTIAL\\nPOSS': 'PARTIAL_POSS'\n",
    "}"
   ]
  },
  {
   "cell_type": "code",
   "execution_count": 246,
   "metadata": {},
   "outputs": [],
   "source": [
    "# all the options we want to scrape for\n",
    "options = ['Traditional', 'Advanced', 'Usage', 'Player Tracking', 'Hustle', 'Defense']"
   ]
  },
  {
   "cell_type": "code",
   "execution_count": 247,
   "metadata": {},
   "outputs": [],
   "source": [
    "# get all boxscore links\n",
    "box_score_links = browser.find_elements_by_partial_link_text('Box Score')\n",
    "\n",
    "for i in range(4,len(box_score_links)):\n",
    "    \n",
    "    browser.find_elements_by_partial_link_text('Box Score')[i].click()\n",
    "    time.sleep(2)\n",
    "    \n",
    "    # browser is within boxscore page now\n",
    "    \n",
    "    # keep track of all stats with a list of dfs\n",
    "    team1_stats_dfs = []\n",
    "    team2_stats_dfs = []\n",
    "    team1 = browser.find_elements_by_class_name('nba-stat-table__caption')[0].text\n",
    "    team2 = browser.find_elements_by_class_name('nba-stat-table__caption')[1].text\n",
    "    \n",
    "    # scrape multiple options designated above\n",
    "    for i, option in enumerate(options):\n",
    "        # only select new options item if not first-time loading page\n",
    "        if i != 0:\n",
    "            browser.find_element_by_partial_link_text(option).click()\n",
    "            time.sleep(2)\n",
    "\n",
    "        \n",
    "        # scrape 2 boxscore tables\n",
    "        table1 = browser.find_element_by_xpath('/html/body/main/div[2]/div/div/div[4]/div/div[2]/div/nba-stat-table[1]')\n",
    "        table2 = browser.find_element_by_xpath('/html/body/main/div[2]/div/div/div[4]/div/div[2]/div/nba-stat-table[2]')\n",
    "        \n",
    "        \n",
    "        \n",
    "        # scrape tables for both teams\n",
    "        for table_idx, table in enumerate([table1, table2]):\n",
    "            column_names = []\n",
    "            player_stats = []\n",
    "            temp_player_stat = []\n",
    "            \n",
    "            # replace all the unexpected spaces and newlines strings by our script\n",
    "            table_text = table.text\n",
    "            for orig_str, replace_str in text_replacements.items():\n",
    "                table_text = table_text.replace(orig_str, replace_str)\n",
    "\n",
    "            # read table text into python list of lists\n",
    "            for line_id, line in enumerate(table_text.split('\\n')):\n",
    "                if line_id == 0:\n",
    "                    column_names = line.split(' ')[1:]\n",
    "                    column_names.insert(0,'PLAYER')\n",
    "                else:\n",
    "                    # stop reading once we see totals or DNP/DND line\n",
    "                    if ('Totals' in line) or ('DNP' in line) or ('DND' in line):\n",
    "                        break\n",
    "\n",
    "                    if line_id % 2 == 1:\n",
    "                        line_cleaned = line[:-2] + line[-2:].replace(' F', '').replace(' C', '').replace(' G', '')\n",
    "                        temp_player_stat.append(line_cleaned)\n",
    "                    if line_id % 2 == 0:\n",
    "                        temp_player_stat.extend(line.split(' '))\n",
    "                        player_stats.append(temp_player_stat)\n",
    "                        temp_player_stat = []\n",
    "\n",
    "            # convert list of lists into pandas df\n",
    "            df = pd.DataFrame(player_stats, columns = column_names)\n",
    "            if table_idx == 0:\n",
    "                team1_stats_dfs.append(df)\n",
    "            else:\n",
    "                team2_stats_dfs.append(df)\n",
    "        \n",
    "\n",
    "        # open the options menu\n",
    "        browser.find_element_by_partial_link_text(option).click()\n",
    "        time.sleep(2)\n",
    "        \n",
    "    # combine all the stats and write to a pickle file\n",
    "    \n",
    "    \n",
    "    # finish scraping the stats from all the options, go back to the previous page listing all games in one day\n",
    "    browser.get(url)\n",
    "    time.sleep(3)"
   ]
  },
  {
   "cell_type": "code",
   "execution_count": null,
   "metadata": {},
   "outputs": [],
   "source": []
  }
 ],
 "metadata": {
  "kernelspec": {
   "display_name": "Python 3",
   "language": "python",
   "name": "python3"
  },
  "language_info": {
   "codemirror_mode": {
    "name": "ipython",
    "version": 3
   },
   "file_extension": ".py",
   "mimetype": "text/x-python",
   "name": "python",
   "nbconvert_exporter": "python",
   "pygments_lexer": "ipython3",
   "version": "3.7.3"
  }
 },
 "nbformat": 4,
 "nbformat_minor": 4
}
